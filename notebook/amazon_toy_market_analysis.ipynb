{
 "cells": [
  {
   "cell_type": "markdown",
   "id": "a9bb9ad5",
   "metadata": {},
   "source": [
    "# <h1 style=\"text-align:center;\">**AMAZON TOY CATEGORIES ANALYSIS**</h1> \n",
    "## <h1 style=\"text-align:center;\">*Pricing, Popularity & Positioning</h1>*\n",
    "\n",
    "<p style=\"text-align:center; font-size:20px;\"><strong>Liliia Rastorhuieva | 2025</p>\n",
    "\n"
   ]
  },
  {
   "cell_type": "markdown",
   "id": "6d246bfe",
   "metadata": {},
   "source": [
    "**Goal:** Provide insights into pricing, popularity, and positioning across toy categories."
   ]
  },
  {
   "cell_type": "markdown",
   "id": "5b3edfd4",
   "metadata": {},
   "source": [
    "# 1. Research Question:   \n",
    " Which toy categories have the highest potential for sales considering price segments, popularity (reviews), and positioning (keywords)?\n",
    "\n",
    "**Sub-questions:**\n",
    "\n",
    "   - How do prices and discounts differ across categories? \n",
    "   - Which categories are most popular and why? \n",
    "   - Which categories are most popular and why?  \n",
    "   - Where is the best balance of price vs value (value for money)? \n",
    "   - How are categories positioned via keywords (emotional, Montessori, eco)?   \n",
    "   - Where are anomalies or super-hit products?  \n",
    "\n",
    "**Source selection:**\n",
    "\n",
    "   - Chosen Amazon store: high-traffic, representative assortment for the Baby segment (educational/non-commercial project).   \n",
    "   \n",
    "**Category selection:**\n",
    "\n",
    "   - Three base categories analyzed: **Wooden, Sustainable, Baby** (all non-Wooden, non-Sustainable, despite the marketing overlap with the age label “Baby”).  \n",
    "   - The focus was on the marketing age group Baby (excluding Toddler and Preschooler), whose actual age range extends beyond the nominal definition.\n",
    "   - Functional/marketing categories (sleep, educational, outdoor toys) were excluded due to overlap."
   ]
  },
  {
   "cell_type": "markdown",
   "id": "4f983a00",
   "metadata": {},
   "source": [
    "**Data flow:** \n",
    "\n",
    "Web scraping --> Raw CSVs --> Cleaning & Normalization (Python) --> Feature Engineering (Google Sheets) --> Pivot Tables & Aggregation --> Visualization & Insights\n"
   ]
  },
  {
   "cell_type": "markdown",
   "id": "6333307f",
   "metadata": {},
   "source": [
    "## 2. Data Collection (Scraping)  \n",
    "\n",
    "**Scope:** Raw data includes ASIN, title, price, old price, discount, stock, reviews, age range, weight, short description. \n",
    "\n",
    "**Implementation:**\n",
    "\n",
    "   - Data scraped using Python and Selenium, with code customized to Amazon’s HTML structure. \n",
    "     \n",
    "   Example snippet :\n"
   ]
  },
  {
   "cell_type": "code",
   "execution_count": 72,
   "id": "93a555d2",
   "metadata": {},
   "outputs": [],
   "source": [
    "def extract_asin(url):\n",
    "    match = re.search(r\"/dp/([A-Z0-9]{10})\", url)\n",
    "    return match.group(1) if match else \"\"\n",
    "\n",
    "def clean_title(title):\n",
    "    return title.strip() if title else \"\""
   ]
  },
  {
   "cell_type": "markdown",
   "id": "546141c2",
   "metadata": {},
   "source": [
    "*Full scraping scripts for all three categories are available in the project attachments.  \n",
    "\n",
    "- Exported to CSV for cleaning in Python."
   ]
  },
  {
   "cell_type": "code",
   "execution_count": 73,
   "id": "9d17495c",
   "metadata": {},
   "outputs": [
    {
     "data": {
      "text/html": [
       "<div>\n",
       "<style scoped>\n",
       "    .dataframe tbody tr th:only-of-type {\n",
       "        vertical-align: middle;\n",
       "    }\n",
       "\n",
       "    .dataframe tbody tr th {\n",
       "        vertical-align: top;\n",
       "    }\n",
       "\n",
       "    .dataframe thead th {\n",
       "        text-align: right;\n",
       "    }\n",
       "</style>\n",
       "<table border=\"1\" class=\"dataframe\">\n",
       "  <thead>\n",
       "    <tr style=\"text-align: right;\">\n",
       "      <th></th>\n",
       "      <th>asin</th>\n",
       "      <th>url</th>\n",
       "      <th>title</th>\n",
       "      <th>price</th>\n",
       "      <th>old_price</th>\n",
       "      <th>discount</th>\n",
       "      <th>stock</th>\n",
       "      <th>reviews_count</th>\n",
       "      <th>age_range</th>\n",
       "      <th>weight</th>\n",
       "      <th>short_description</th>\n",
       "    </tr>\n",
       "  </thead>\n",
       "  <tbody>\n",
       "    <tr>\n",
       "      <th>20</th>\n",
       "      <td>B08C81BZBH</td>\n",
       "      <td>https://www.amazon.de/-/en/dp/B08C81BZBH?pr=DE...</td>\n",
       "      <td>NaN</td>\n",
       "      <td>NaN</td>\n",
       "      <td>NaN</td>\n",
       "      <td>NaN</td>\n",
       "      <td>NaN</td>\n",
       "      <td>8.136 global ratings</td>\n",
       "      <td>NaN</td>\n",
       "      <td>NaN</td>\n",
       "      <td>NaN</td>\n",
       "    </tr>\n",
       "    <tr>\n",
       "      <th>10</th>\n",
       "      <td>B0CXTQP2B4</td>\n",
       "      <td>https://www.amazon.de/Fisher-Price-Sorting-Tra...</td>\n",
       "      <td>Fisher-Price Baby Shape Sorting Toy FP Pets So...</td>\n",
       "      <td>€23.71</td>\n",
       "      <td>€24.97</td>\n",
       "      <td>-5%</td>\n",
       "      <td>NaN</td>\n",
       "      <td>38 global ratings</td>\n",
       "      <td>Warning: not suitable for children under 36 mo...</td>\n",
       "      <td>Warning: not suitable for children under 36 mo...</td>\n",
       "      <td>Cute sorting toy with animal motifs and animal...</td>\n",
       "    </tr>\n",
       "    <tr>\n",
       "      <th>19</th>\n",
       "      <td>B0CN8XJB15</td>\n",
       "      <td>https://www.amazon.de/-/en/dp/B0CN8XJB15?platt...</td>\n",
       "      <td>NaN</td>\n",
       "      <td>NaN</td>\n",
       "      <td>NaN</td>\n",
       "      <td>NaN</td>\n",
       "      <td>NaN</td>\n",
       "      <td>24.873 global ratings</td>\n",
       "      <td>NaN</td>\n",
       "      <td>NaN</td>\n",
       "      <td>NaN</td>\n",
       "    </tr>\n",
       "  </tbody>\n",
       "</table>\n",
       "</div>"
      ],
      "text/plain": [
       "          asin                                                url  \\\n",
       "20  B08C81BZBH  https://www.amazon.de/-/en/dp/B08C81BZBH?pr=DE...   \n",
       "10  B0CXTQP2B4  https://www.amazon.de/Fisher-Price-Sorting-Tra...   \n",
       "19  B0CN8XJB15  https://www.amazon.de/-/en/dp/B0CN8XJB15?platt...   \n",
       "\n",
       "                                                title   price old_price  \\\n",
       "20                                                NaN     NaN       NaN   \n",
       "10  Fisher-Price Baby Shape Sorting Toy FP Pets So...  €23.71    €24.97   \n",
       "19                                                NaN     NaN       NaN   \n",
       "\n",
       "   discount stock          reviews_count  \\\n",
       "20      NaN   NaN   8.136 global ratings   \n",
       "10      -5%   NaN      38 global ratings   \n",
       "19      NaN   NaN  24.873 global ratings   \n",
       "\n",
       "                                            age_range  \\\n",
       "20                                                NaN   \n",
       "10  Warning: not suitable for children under 36 mo...   \n",
       "19                                                NaN   \n",
       "\n",
       "                                               weight  \\\n",
       "20                                                NaN   \n",
       "10  Warning: not suitable for children under 36 mo...   \n",
       "19                                                NaN   \n",
       "\n",
       "                                    short_description  \n",
       "20                                                NaN  \n",
       "10  Cute sorting toy with animal motifs and animal...  \n",
       "19                                                NaN  "
      ]
     },
     "execution_count": 73,
     "metadata": {},
     "output_type": "execute_result"
    }
   ],
   "source": [
    "import pandas as pd\n",
    "\n",
    "df = pd.read_csv(\"baby_toys_raw_2025-09-15.csv\", sep=\",\")\n",
    "df.sample(3)"
   ]
  },
  {
   "cell_type": "markdown",
   "id": "2358ee9a",
   "metadata": {},
   "source": [
    "# 3. Data Cleaning & Normalization  \n",
    "\n",
    "   - Loaded raw CSV, removed duplicates, cleaned titles, normalized prices/discounts, parsed stock/reviews/age/weight, rearranged columns, saved cleaned CSV.  \n",
    "   \n",
    "   Example snippet:\n"
   ]
  },
  {
   "cell_type": "code",
   "execution_count": 41,
   "id": "9c139000",
   "metadata": {},
   "outputs": [],
   "source": [
    "# 1. Load raw CSV\n",
    "df = pd.read_csv(\"baby_toys_raw_2025-09-15.csv\")\n",
    "\n",
    "# 2. Remove duplicates by ASIN\n",
    "df = df.drop_duplicates(subset=\"asin\")\n",
    "\n",
    "# 3. Clean title: remove \"Fisher-Price\"\n",
    "df[\"title\"] = df[\"title\"].str.replace(r\"(?i)^Fisher-Price\\s*\", \"\", regex=True)"
   ]
  },
  {
   "cell_type": "markdown",
   "id": "b503023f",
   "metadata": {},
   "source": [
    "   - Key metric in Python: price per gram (€/g):\n"
   ]
  },
  {
   "cell_type": "code",
   "execution_count": 42,
   "id": "bc3cfd90",
   "metadata": {},
   "outputs": [],
   "source": [
    "# 10. Price per gram €/g rounded to 2 decimals and formatted with comma\n",
    "def compute_price_per_gram(price, weight):\n",
    "    if price == \"\" or pd.isna(weight) or weight == 0 or pd.isna(price):\n",
    "        return \"\"\n",
    "    p = float(price.replace(\",\", \".\"))\n",
    "    price_per_gram = round(p / weight, 2)\n",
    "    return str(price_per_gram).replace(\".\", \",\")  # Convert to European format"
   ]
  },
  {
   "cell_type": "markdown",
   "id": "3bf5d606",
   "metadata": {},
   "source": [
    "Other metrics and flags were added later in Google Sheets for convenience. \n",
    " \n",
    "*Full cleaning scripts for all three categories are available in the project attachments.\n"
   ]
  },
  {
   "cell_type": "markdown",
   "id": "d36fb546",
   "metadata": {},
   "source": [
    "   - Cleaned dataset saved as CSV."
   ]
  },
  {
   "cell_type": "markdown",
   "id": "f773846e",
   "metadata": {},
   "source": [
    "- Combined cleaned CSVs into a single dataset and added toy_type column to indicate category.\n",
    "\n",
    "Example snippet:"
   ]
  },
  {
   "cell_type": "code",
   "execution_count": null,
   "id": "6dbfe1e7",
   "metadata": {},
   "outputs": [],
   "source": [
    "# 1. Load cleaned files\n",
    "wooden = pd.read_csv(\"wooden_toys_cleaned_2025-09-15.csv\")\n",
    "baby = pd.read_csv(\"baby_toys_cleaned_2025-09-15.csv\")\n",
    "sustainable = pd.read_csv(\"sustainable_toys_cleaned_2025-09-15.csv\")\n",
    "\n",
    "# 2. Add toy_type column\n",
    "wooden['toy_type'] = 'wooden'\n",
    "baby['toy_type'] = 'baby'\n",
    "sustainable['toy_type'] = 'sustainable'\n",
    "\n",
    "# 3. Define desired columns\n",
    "desired_columns = [\n",
    "    'asin', 'url', 'title', 'price', 'old_price', 'discount', 'stock',\n",
    "    'reviews_count', 'age_tuple', 'dimensions_cm', 'weight_grams', '€/g',\n",
    "    'short_description', 'toy_type'\n",
    "    ]"
   ]
  },
  {
   "cell_type": "markdown",
   "id": "354e0443",
   "metadata": {},
   "source": [
    "- Saved as CSV for further metric calculations."
   ]
  },
  {
   "cell_type": "markdown",
   "id": "3fcb35ac",
   "metadata": {},
   "source": [
    "# 3. Feature Engineering\n",
    "- Calculated metrics: €/g, price per year, value for money, review density"
   ]
  },
  {
   "cell_type": "code",
   "execution_count": null,
   "id": "be72cfe2",
   "metadata": {},
   "outputs": [
    {
     "data": {
      "text/html": [
       "<div>\n",
       "<style scoped>\n",
       "    .dataframe tbody tr th:only-of-type {\n",
       "        vertical-align: middle;\n",
       "    }\n",
       "\n",
       "    .dataframe tbody tr th {\n",
       "        vertical-align: top;\n",
       "    }\n",
       "\n",
       "    .dataframe thead th {\n",
       "        text-align: right;\n",
       "    }\n",
       "</style>\n",
       "<table border=\"1\" class=\"dataframe\">\n",
       "  <thead>\n",
       "    <tr style=\"text-align: right;\">\n",
       "      <th></th>\n",
       "      <th>asin</th>\n",
       "      <th>toy_type</th>\n",
       "      <th>price</th>\n",
       "      <th>old_price</th>\n",
       "      <th>discount</th>\n",
       "      <th>reviews_count</th>\n",
       "      <th>€/g</th>\n",
       "      <th>price_per_year</th>\n",
       "      <th>value_for_money</th>\n",
       "      <th>reviews_density</th>\n",
       "    </tr>\n",
       "  </thead>\n",
       "  <tbody>\n",
       "    <tr>\n",
       "      <th>20</th>\n",
       "      <td>B0BRSJWD6X</td>\n",
       "      <td>baby</td>\n",
       "      <td>€9,99</td>\n",
       "      <td>€9,99</td>\n",
       "      <td>NaN</td>\n",
       "      <td>10862</td>\n",
       "      <td>€0,02</td>\n",
       "      <td>€4,00</td>\n",
       "      <td>1087,29</td>\n",
       "      <td>4344,8</td>\n",
       "    </tr>\n",
       "    <tr>\n",
       "      <th>2</th>\n",
       "      <td>B0CMFTKPF5</td>\n",
       "      <td>wooden</td>\n",
       "      <td>€37,99</td>\n",
       "      <td>NaN</td>\n",
       "      <td>NaN</td>\n",
       "      <td>381</td>\n",
       "      <td>€0,07</td>\n",
       "      <td>€19,00</td>\n",
       "      <td>10,03</td>\n",
       "      <td>190,5</td>\n",
       "    </tr>\n",
       "    <tr>\n",
       "      <th>19</th>\n",
       "      <td>B0B2XBHYTK</td>\n",
       "      <td>baby</td>\n",
       "      <td>€39,18</td>\n",
       "      <td>€49,99</td>\n",
       "      <td>22%</td>\n",
       "      <td>413</td>\n",
       "      <td>€0,03</td>\n",
       "      <td>NaN</td>\n",
       "      <td>10,54</td>\n",
       "      <td>413</td>\n",
       "    </tr>\n",
       "    <tr>\n",
       "      <th>27</th>\n",
       "      <td>B0DMWGLN9C</td>\n",
       "      <td>baby</td>\n",
       "      <td>€206,99</td>\n",
       "      <td>€64,59</td>\n",
       "      <td>NaN</td>\n",
       "      <td>1</td>\n",
       "      <td>€0,10</td>\n",
       "      <td>€31,84</td>\n",
       "      <td>0,01</td>\n",
       "      <td>0,154</td>\n",
       "    </tr>\n",
       "    <tr>\n",
       "      <th>5</th>\n",
       "      <td>B0CMG4WL99</td>\n",
       "      <td>wooden</td>\n",
       "      <td>€11,68</td>\n",
       "      <td>€12,99</td>\n",
       "      <td>10%</td>\n",
       "      <td>117</td>\n",
       "      <td>€0,05</td>\n",
       "      <td>€3,89</td>\n",
       "      <td>10,02</td>\n",
       "      <td>39</td>\n",
       "    </tr>\n",
       "  </tbody>\n",
       "</table>\n",
       "</div>"
      ],
      "text/plain": [
       "          asin toy_type    price old_price discount  reviews_count    €/g  \\\n",
       "20  B0BRSJWD6X     baby    €9,99     €9,99      NaN          10862  €0,02   \n",
       "2   B0CMFTKPF5   wooden   €37,99       NaN      NaN            381  €0,07   \n",
       "19  B0B2XBHYTK     baby   €39,18    €49,99      22%            413  €0,03   \n",
       "27  B0DMWGLN9C     baby  €206,99    €64,59      NaN              1  €0,10   \n",
       "5   B0CMG4WL99   wooden   €11,68    €12,99      10%            117  €0,05   \n",
       "\n",
       "   price_per_year value_for_money reviews_density  \n",
       "20          €4,00         1087,29          4344,8  \n",
       "2          €19,00           10,03           190,5  \n",
       "19            NaN           10,54             413  \n",
       "27         €31,84            0,01           0,154  \n",
       "5           €3,89           10,02              39  "
      ]
     },
     "execution_count": 26,
     "metadata": {},
     "output_type": "execute_result"
    }
   ],
   "source": [
    "df = pd.read_csv(\"toys_fisher_price_analysis.csv\", sep=\",\")\n",
    "key_columns = [\"asin\", \"toy_type\", \"price\", \"old_price\", \"discount\",\"reviews_count\", \"€/g\", \"price_per_year\", \"value_for_money\", \"reviews_density\"]\n",
    "df_key = df[key_columns]\n",
    "df_key.sample(5)"
   ]
  },
  {
   "cell_type": "markdown",
   "id": "5cc9361d",
   "metadata": {},
   "source": [
    "- Keyword flags: emotional, educational, eco"
   ]
  },
  {
   "cell_type": "code",
   "execution_count": 46,
   "id": "81c12211",
   "metadata": {},
   "outputs": [
    {
     "data": {
      "text/html": [
       "<div>\n",
       "<style scoped>\n",
       "    .dataframe tbody tr th:only-of-type {\n",
       "        vertical-align: middle;\n",
       "    }\n",
       "\n",
       "    .dataframe tbody tr th {\n",
       "        vertical-align: top;\n",
       "    }\n",
       "\n",
       "    .dataframe thead th {\n",
       "        text-align: right;\n",
       "    }\n",
       "</style>\n",
       "<table border=\"1\" class=\"dataframe\">\n",
       "  <thead>\n",
       "    <tr style=\"text-align: right;\">\n",
       "      <th></th>\n",
       "      <th>asin</th>\n",
       "      <th>toy_type</th>\n",
       "      <th>flag_emotional_triggers</th>\n",
       "      <th>flag_montessori</th>\n",
       "      <th>flag_eco</th>\n",
       "    </tr>\n",
       "  </thead>\n",
       "  <tbody>\n",
       "    <tr>\n",
       "      <th>34</th>\n",
       "      <td>B0DMW9MBSM</td>\n",
       "      <td>baby</td>\n",
       "      <td>1</td>\n",
       "      <td>1</td>\n",
       "      <td>0</td>\n",
       "    </tr>\n",
       "    <tr>\n",
       "      <th>20</th>\n",
       "      <td>B0BRSJWD6X</td>\n",
       "      <td>baby</td>\n",
       "      <td>0</td>\n",
       "      <td>1</td>\n",
       "      <td>0</td>\n",
       "    </tr>\n",
       "    <tr>\n",
       "      <th>13</th>\n",
       "      <td>B0CMG2ZX45</td>\n",
       "      <td>wooden</td>\n",
       "      <td>0</td>\n",
       "      <td>1</td>\n",
       "      <td>1</td>\n",
       "    </tr>\n",
       "    <tr>\n",
       "      <th>27</th>\n",
       "      <td>B0DMWGLN9C</td>\n",
       "      <td>baby</td>\n",
       "      <td>0</td>\n",
       "      <td>1</td>\n",
       "      <td>0</td>\n",
       "    </tr>\n",
       "    <tr>\n",
       "      <th>5</th>\n",
       "      <td>B0CMG4WL99</td>\n",
       "      <td>wooden</td>\n",
       "      <td>1</td>\n",
       "      <td>1</td>\n",
       "      <td>1</td>\n",
       "    </tr>\n",
       "  </tbody>\n",
       "</table>\n",
       "</div>"
      ],
      "text/plain": [
       "          asin toy_type  flag_emotional_triggers  flag_montessori  flag_eco\n",
       "34  B0DMW9MBSM     baby                        1                1         0\n",
       "20  B0BRSJWD6X     baby                        0                1         0\n",
       "13  B0CMG2ZX45   wooden                        0                1         1\n",
       "27  B0DMWGLN9C     baby                        0                1         0\n",
       "5   B0CMG4WL99   wooden                        1                1         1"
      ]
     },
     "execution_count": 46,
     "metadata": {},
     "output_type": "execute_result"
    }
   ],
   "source": [
    "df = pd.read_csv(\"toys_fisher_price_analysis.csv\", sep=\",\")\n",
    "key_columns = [\"asin\", \"toy_type\", 'flag_emotional_triggers', 'flag_montessori', 'flag_eco' ]\n",
    "df_key = df[key_columns]\n",
    "df_key.sample(5)"
   ]
  },
  {
   "cell_type": "markdown",
   "id": "2fe54dc2",
   "metadata": {},
   "source": [
    "- Price buckets: <10 €, 10–20 €, 20–30 €, 30–40 €, ≥40 €  "
   ]
  },
  {
   "cell_type": "code",
   "execution_count": 47,
   "id": "a97fc8b0",
   "metadata": {},
   "outputs": [
    {
     "data": {
      "text/html": [
       "<div>\n",
       "<style scoped>\n",
       "    .dataframe tbody tr th:only-of-type {\n",
       "        vertical-align: middle;\n",
       "    }\n",
       "\n",
       "    .dataframe tbody tr th {\n",
       "        vertical-align: top;\n",
       "    }\n",
       "\n",
       "    .dataframe thead th {\n",
       "        text-align: right;\n",
       "    }\n",
       "</style>\n",
       "<table border=\"1\" class=\"dataframe\">\n",
       "  <thead>\n",
       "    <tr style=\"text-align: right;\">\n",
       "      <th></th>\n",
       "      <th>asin</th>\n",
       "      <th>toy_type</th>\n",
       "      <th>price_bucket</th>\n",
       "    </tr>\n",
       "  </thead>\n",
       "  <tbody>\n",
       "    <tr>\n",
       "      <th>28</th>\n",
       "      <td>B0CXTQP2B4</td>\n",
       "      <td>baby</td>\n",
       "      <td>20-30 €</td>\n",
       "    </tr>\n",
       "    <tr>\n",
       "      <th>17</th>\n",
       "      <td>B0CQMH7RNQ</td>\n",
       "      <td>wooden</td>\n",
       "      <td>20-30 €</td>\n",
       "    </tr>\n",
       "    <tr>\n",
       "      <th>32</th>\n",
       "      <td>B0CQMDRV25</td>\n",
       "      <td>baby</td>\n",
       "      <td>10-20 €</td>\n",
       "    </tr>\n",
       "    <tr>\n",
       "      <th>24</th>\n",
       "      <td>B0DNFFJD73</td>\n",
       "      <td>baby</td>\n",
       "      <td>&gt;=40 €</td>\n",
       "    </tr>\n",
       "    <tr>\n",
       "      <th>35</th>\n",
       "      <td>B0BXLW6CN9</td>\n",
       "      <td>baby</td>\n",
       "      <td>30-40 €</td>\n",
       "    </tr>\n",
       "  </tbody>\n",
       "</table>\n",
       "</div>"
      ],
      "text/plain": [
       "          asin toy_type price_bucket\n",
       "28  B0CXTQP2B4     baby      20-30 €\n",
       "17  B0CQMH7RNQ   wooden      20-30 €\n",
       "32  B0CQMDRV25     baby      10-20 €\n",
       "24  B0DNFFJD73     baby       >=40 €\n",
       "35  B0BXLW6CN9     baby      30-40 €"
      ]
     },
     "execution_count": 47,
     "metadata": {},
     "output_type": "execute_result"
    }
   ],
   "source": [
    "df = pd.read_csv(\"toys_fisher_price_analysis.csv\", sep=\",\")\n",
    "key_columns = [\"asin\", \"toy_type\", 'price_bucket' ]\n",
    "df_key = df[key_columns]\n",
    "df_key.sample(5)"
   ]
  },
  {
   "cell_type": "markdown",
   "id": "72d9247c",
   "metadata": {},
   "source": [
    "- Outlier handling\n",
    "\n",
    "Removed 7 super-hit review products and 2 anomalous prices (~50 €) using modified IQR:  \n",
    "`Lower = Q1 - 2*IQR`, `Upper = Q3 + 2*IQR`.\n",
    "\n"
   ]
  },
  {
   "cell_type": "markdown",
   "id": "e9894c6b",
   "metadata": {},
   "source": [
    "# Pivot Tables & Visualization\n",
    "\n",
    "Calculated metrics and pivot tables were prepared in Google Sheets.    
Download the full spreadsheet for review: [Download](<notebook/amazon_toy_market_analysis.ipynb>).
. Insights are detailed in the presentation.\n",
    "\n",
    "\n"
   ]
  }
 ],
 "metadata": {
  "kernelspec": {
   "display_name": "base",
   "language": "python",
   "name": "python3"
  },
  "language_info": {
   "codemirror_mode": {
    "name": "ipython",
    "version": 3
   },
   "file_extension": ".py",
   "mimetype": "text/x-python",
   "name": "python",
   "nbconvert_exporter": "python",
   "pygments_lexer": "ipython3",
   "version": "3.12.7"
  }
 },
 "nbformat": 4,
 "nbformat_minor": 5
}
